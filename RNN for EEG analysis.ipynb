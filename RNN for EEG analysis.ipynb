{
 "cells": [
  {
   "cell_type": "code",
   "execution_count": 1,
   "metadata": {
    "collapsed": true
   },
   "outputs": [],
   "source": [
    "import numpy as np\n",
    "from random import shuffle\n",
    "import tensorflow as tf\n",
    "from tensorflow.contrib.layers import linear\n",
    "import pandas as pd"
   ]
  },
  {
   "cell_type": "code",
   "execution_count": 2,
   "metadata": {
    "collapsed": false
   },
   "outputs": [],
   "source": [
    "a = pd.read_csv(\"data/EEG_Eye_State.arff\",comment=\"@\",header=None)\n",
    "Y_data = pd.DataFrame(a.iloc[:,-1])\n",
    "X_data = a.iloc[:,0:len(a.columns)-1]\n",
    "X_data = X_data.values.reshape((-1,10,14))\n",
    "Y_data = np.mean(Y_data.values.reshape(10,-1),0).reshape((-1,1))\n",
    "#Y_data = np.random.randint(0,2,X_data.shape[0]).reshape((-1,1))\n",
    "#Y_data = Y_data.values.reshape((-1,1))\n",
    "X_data.shape,Y_data.shape\n",
    "\n",
    "train_input = X_data\n",
    "train_output = Y_data"
   ]
  },
  {
   "cell_type": "code",
   "execution_count": 3,
   "metadata": {
    "collapsed": true
   },
   "outputs": [],
   "source": [
    "NUM_EXAMPLES = 1000\n",
    "test_input = train_input[NUM_EXAMPLES:]\n",
    "test_output = train_output[NUM_EXAMPLES:] #everything beyond 10,000\n",
    " \n",
    "train_input = train_input[:NUM_EXAMPLES]\n",
    "train_output = train_output[:NUM_EXAMPLES] #till 10,000"
   ]
  },
  {
   "cell_type": "code",
   "execution_count": 4,
   "metadata": {
    "collapsed": false
   },
   "outputs": [
    {
     "name": "stderr",
     "output_type": "stream",
     "text": [
      "/Users/peigniersergio/miniconda2/lib/python2.7/site-packages/tensorflow/python/ops/gradients_impl.py:91: UserWarning: Converting sparse IndexedSlices to a dense Tensor of unknown shape. This may consume a large amount of memory.\n",
      "  \"Converting sparse IndexedSlices to a dense Tensor of unknown shape. \"\n"
     ]
    }
   ],
   "source": [
    "batch_size = None\n",
    "sequence_size=10\n",
    "output_size=1\n",
    "object_dim=14\n",
    "num_hidden = 30\n",
    "\n",
    "data = tf.placeholder(tf.float32, [batch_size, sequence_size,object_dim])\n",
    "target = tf.placeholder(tf.float32, [batch_size, output_size])\n",
    "cell = tf.nn.rnn_cell.LSTMCell(num_hidden,state_is_tuple=True)\n",
    "val, state = tf.nn.dynamic_rnn(cell, data, dtype=tf.float32)\n",
    "val = tf.transpose(val, [1, 0, 2])\n",
    "last = tf.gather(val, int(val.get_shape()[0]) - 1)\n",
    "\n",
    "Ylogits = linear(last, output_size)\n",
    "Y_nn = tf.nn.softmax(Ylogits)\n",
    "predictions = tf.argmax(Y_nn, 1)\n",
    "\n",
    "cross_entropy = tf.nn.softmax_cross_entropy_with_logits(Ylogits, target)\n",
    "minimize = tf.train.AdamOptimizer(1e-3).minimize(cross_entropy)\n",
    "\n",
    "mistakes = tf.not_equal(tf.argmax(target, 1), tf.argmax(Y_nn, 1))\n",
    "error = tf.reduce_mean(tf.cast(mistakes, tf.float32))\n"
   ]
  },
  {
   "cell_type": "code",
   "execution_count": 5,
   "metadata": {
    "collapsed": false,
    "deletable": true,
    "editable": true
   },
   "outputs": [
    {
     "name": "stdout",
     "output_type": "stream",
     "text": [
      "Epoch -  0\n",
      "Epoch -  1\n",
      "Epoch -  2\n",
      "Epoch -  3\n",
      "Epoch -  4\n",
      "Epoch -  5\n",
      "Epoch -  6\n",
      "Epoch -  7\n",
      "Epoch -  8\n",
      "Epoch -  9\n",
      "Epoch 10 error 0.0%\n"
     ]
    }
   ],
   "source": [
    "init_op = tf.global_variables_initializer()\n",
    "sess = tf.Session()\n",
    "sess.run(init_op)\n",
    "batch_size = 10\n",
    "no_of_batches = int(len(train_input)/batch_size)\n",
    "epoch = 10\n",
    "for i in range(epoch):\n",
    "    ptr = 0\n",
    "    for j in range(no_of_batches):\n",
    "        inp, out = train_input[ptr:ptr+batch_size], train_output[ptr:ptr+batch_size]\n",
    "        ptr+=batch_size\n",
    "        sess.run(minimize,{data: inp, target: out})\n",
    "    print \"Epoch - \",str(i)\n",
    "incorrect = sess.run(error,{data: test_input, target: test_output})\n",
    "print('Epoch {:2d} error {:3.1f}%'.format(i + 1, 100 * incorrect))\n",
    "sess.close()"
   ]
  }
 ],
 "metadata": {
  "kernelspec": {
   "display_name": "Python 2",
   "language": "python",
   "name": "python2"
  },
  "language_info": {
   "codemirror_mode": {
    "name": "ipython",
    "version": 2
   },
   "file_extension": ".py",
   "mimetype": "text/x-python",
   "name": "python",
   "nbconvert_exporter": "python",
   "pygments_lexer": "ipython2",
   "version": "2.7.12"
  }
 },
 "nbformat": 4,
 "nbformat_minor": 2
}
